{
  "nbformat": 4,
  "nbformat_minor": 0,
  "metadata": {
    "colab": {
      "name": "18it115.ipynb",
      "provenance": []
    },
    "kernelspec": {
      "name": "python3",
      "display_name": "Python 3"
    },
    "language_info": {
      "name": "python"
    }
  },
  "cells": [
    {
      "cell_type": "code",
      "metadata": {
        "id": "5aehZ53FLOxi"
      },
      "source": [
        "from bs4 import BeautifulSoup\n",
        "import requests"
      ],
      "execution_count": 10,
      "outputs": []
    },
    {
      "cell_type": "code",
      "metadata": {
        "id": "4QjA5sk4LUkt"
      },
      "source": [
        "headers = {'User-Agent':'Mozilla/5.0 (Windows NT 10.0; Win64; x64) AppleWebKit/537.36 (KHTML, like Gecko) Chrome/58.0.3029.110 Safari/537.3'}"
      ],
      "execution_count": 11,
      "outputs": []
    },
    {
      "cell_type": "code",
      "metadata": {
        "id": "JeW4GkLCLXCx"
      },
      "source": [
        "source = requests.get('https://www.amazon.in/s?k=cosmetics+for+women&crid=2XZNVCXIQNZPL&sprefix=Cosmeti%2Caps%2C293&ref=nb_sb_ss_ts-doa-p_1_7', headers = headers).text\n",
        "soup = BeautifulSoup(source, 'lxml')"
      ],
      "execution_count": 12,
      "outputs": []
    },
    {
      "cell_type": "code",
      "metadata": {
        "id": "EDj8pBAhLsJv"
      },
      "source": [
        "Names = []\n",
        "Prices = []"
      ],
      "execution_count": 13,
      "outputs": []
    },
    {
      "cell_type": "code",
      "metadata": {
        "id": "IgYqVF9lLuu3"
      },
      "source": [
        "for i in soup.find_all('a', class_='a-link-normal a-text-normal'):\n",
        "    string = i.text\n",
        "    Names.append( string.strip() )"
      ],
      "execution_count": 14,
      "outputs": []
    },
    {
      "cell_type": "code",
      "metadata": {
        "id": "tA6EPBYPLxUw"
      },
      "source": [
        "for i in soup.find_all('span', class_='a-price-whole'):\n",
        "    Prices.append(i.text)"
      ],
      "execution_count": 15,
      "outputs": []
    },
    {
      "cell_type": "code",
      "metadata": {
        "id": "lo4tw-4NL0uW"
      },
      "source": [
        "import csv\n",
        "file_name = 'beauty.csv'"
      ],
      "execution_count": 16,
      "outputs": []
    },
    {
      "cell_type": "code",
      "metadata": {
        "id": "MlS-aTawL4c8"
      },
      "source": [
        "with open(file_name, 'w') as file:\n",
        "    writer = csv.writer(file)\n",
        "    writer.writerow(['Sr.No', 'Product Name', 'Prices'])\n",
        "    for i in range(len(Names)):\n",
        "        writer.writerow([i, Names[i], Prices[i]])"
      ],
      "execution_count": 17,
      "outputs": []
    },
    {
      "cell_type": "code",
      "metadata": {
        "colab": {
          "base_uri": "https://localhost:8080/",
          "height": 417
        },
        "id": "r0kqw0qKL9Z0",
        "outputId": "24dfb7ec-6bd2-426a-f0ed-49f6781a0aaa"
      },
      "source": [
        "import pandas as pd\n",
        "data =pd.read_csv(\"beauty.csv\", encoding=\"ISO-8859-1\")\n",
        "data"
      ],
      "execution_count": 18,
      "outputs": [
        {
          "output_type": "execute_result",
          "data": {
            "text/html": [
              "<div>\n",
              "<style scoped>\n",
              "    .dataframe tbody tr th:only-of-type {\n",
              "        vertical-align: middle;\n",
              "    }\n",
              "\n",
              "    .dataframe tbody tr th {\n",
              "        vertical-align: top;\n",
              "    }\n",
              "\n",
              "    .dataframe thead th {\n",
              "        text-align: right;\n",
              "    }\n",
              "</style>\n",
              "<table border=\"1\" class=\"dataframe\">\n",
              "  <thead>\n",
              "    <tr style=\"text-align: right;\">\n",
              "      <th></th>\n",
              "      <th>Sr.No</th>\n",
              "      <th>Product Name</th>\n",
              "      <th>Prices</th>\n",
              "    </tr>\n",
              "  </thead>\n",
              "  <tbody>\n",
              "    <tr>\n",
              "      <th>0</th>\n",
              "      <td>0</td>\n",
              "      <td>Iba Halal Care Makeup Gift Set (Medium) - Foun...</td>\n",
              "      <td>1,385</td>\n",
              "    </tr>\n",
              "    <tr>\n",
              "      <th>1</th>\n",
              "      <td>1</td>\n",
              "      <td>Maybelline New York Color Sensational Creamy M...</td>\n",
              "      <td>239</td>\n",
              "    </tr>\n",
              "    <tr>\n",
              "      <th>2</th>\n",
              "      <td>2</td>\n",
              "      <td>Maybelline New York Colossal Bold Eyeliner, Bl...</td>\n",
              "      <td>187</td>\n",
              "    </tr>\n",
              "    <tr>\n",
              "      <th>3</th>\n",
              "      <td>3</td>\n",
              "      <td>LakmÃ© 9 To 5 Complexion Care Face CC Cream, B...</td>\n",
              "      <td>248.</td>\n",
              "    </tr>\n",
              "    <tr>\n",
              "      <th>4</th>\n",
              "      <td>4</td>\n",
              "      <td>Store2508 Professional Beauty Make Up Case Nai...</td>\n",
              "      <td>1,499</td>\n",
              "    </tr>\n",
              "    <tr>\n",
              "      <th>...</th>\n",
              "      <td>...</td>\n",
              "      <td>...</td>\n",
              "      <td>...</td>\n",
              "    </tr>\n",
              "    <tr>\n",
              "      <th>59</th>\n",
              "      <td>59</td>\n",
              "      <td>Kubra KB-309 Professional Cordless Rechargeabl...</td>\n",
              "      <td>1,299</td>\n",
              "    </tr>\n",
              "    <tr>\n",
              "      <th>60</th>\n",
              "      <td>60</td>\n",
              "      <td>StBotanica Eucalyptus &amp; Tea Tree Oil Hair Repa...</td>\n",
              "      <td>449</td>\n",
              "    </tr>\n",
              "    <tr>\n",
              "      <th>61</th>\n",
              "      <td>61</td>\n",
              "      <td>WOW Skin Science Onion Conditioner With Red On...</td>\n",
              "      <td>299</td>\n",
              "    </tr>\n",
              "    <tr>\n",
              "      <th>62</th>\n",
              "      <td>62</td>\n",
              "      <td>StBotanica Moroccan Argan Hair Shampoo With Or...</td>\n",
              "      <td>549</td>\n",
              "    </tr>\n",
              "    <tr>\n",
              "      <th>63</th>\n",
              "      <td>63</td>\n",
              "      <td>The Man Company Body Perfume Trio Deodorant Se...</td>\n",
              "      <td>712</td>\n",
              "    </tr>\n",
              "  </tbody>\n",
              "</table>\n",
              "<p>64 rows × 3 columns</p>\n",
              "</div>"
            ],
            "text/plain": [
              "    Sr.No                                       Product Name Prices\n",
              "0       0  Iba Halal Care Makeup Gift Set (Medium) - Foun...  1,385\n",
              "1       1  Maybelline New York Color Sensational Creamy M...    239\n",
              "2       2  Maybelline New York Colossal Bold Eyeliner, Bl...    187\n",
              "3       3  LakmÃ© 9 To 5 Complexion Care Face CC Cream, B...   248.\n",
              "4       4  Store2508 Professional Beauty Make Up Case Nai...  1,499\n",
              "..    ...                                                ...    ...\n",
              "59     59  Kubra KB-309 Professional Cordless Rechargeabl...  1,299\n",
              "60     60  StBotanica Eucalyptus & Tea Tree Oil Hair Repa...    449\n",
              "61     61  WOW Skin Science Onion Conditioner With Red On...    299\n",
              "62     62  StBotanica Moroccan Argan Hair Shampoo With Or...    549\n",
              "63     63  The Man Company Body Perfume Trio Deodorant Se...    712\n",
              "\n",
              "[64 rows x 3 columns]"
            ]
          },
          "metadata": {
            "tags": []
          },
          "execution_count": 18
        }
      ]
    },
    {
      "cell_type": "code",
      "metadata": {
        "id": "dTWF1FdTMFNo"
      },
      "source": [
        ""
      ],
      "execution_count": 18,
      "outputs": []
    }
  ]
}